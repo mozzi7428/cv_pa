{
 "cells": [
  {
   "cell_type": "markdown",
   "metadata": {
    "id": "Ur6LadsD5zvr"
   },
   "source": [
    "# image_alignment"
   ]
  },
  {
   "cell_type": "code",
   "execution_count": 4,
   "metadata": {
    "id": "Uf2bghBB5zvs"
   },
   "outputs": [],
   "source": [
    "import numpy as np\n",
    "import cv2\n",
    "import os\n",
    "import glob\n",
    "\n",
    "def image_alignment(template,image, sift_thres = 0.7, ransac_thres = 5.0):\n",
    "    \"\"\"\n",
    "    align image to the template image with SIFT.\n",
    "    args:\n",
    "        template: template image\n",
    "        image: target image to fit to template image\n",
    "    return:\n",
    "        aligned): image after alignment\n",
    "    \"\"\"\n",
    "    # convert to gray\n",
    "    tmp = cv2.cvtColor(template,cv2.COLOR_BGR2GRAY)\n",
    "    img = cv2.cvtColor(image,cv2.COLOR_BGR2GRAY)\n",
    "    \n",
    "    # compute keypoints and descriptors\n",
    "    sift = cv2.xfeatures2d.SIFT_create()\n",
    "    img_kp, img_dsc = sift.detectAndCompute(img,None)\n",
    "    tmp_kp, tmp_dsc = sift.detectAndCompute(tmp,None)\n",
    "    \n",
    "    # find where are good matches\n",
    "    matcher = cv2.BFMatcher_create(normType=cv2.NORM_L2,crossCheck=False)\n",
    "    matches = matcher.knnMatch(img_dsc, tmp_dsc,k=2)\n",
    "    good_matches = []\n",
    "    for m1,m2 in matches:\n",
    "        if m1.distance < sift_thres*m2.distance:\n",
    "            good_matches.append(m1)\n",
    "            \n",
    "    # apply homography\n",
    "    img_pts = np.float32([img_kp[m.queryIdx].pt for m in good_matches]).reshape(-1,1,2)\n",
    "    tmp_pts = np.float32([tmp_kp[m.trainIdx].pt for m in good_matches]).reshape(-1,1,2)\n",
    "\n",
    "    homo, mask = cv2.findHomography(img_pts, tmp_pts, cv2.RANSAC, ransac_thres)\n",
    "\n",
    "    h,w,_ = template.shape\n",
    "    image_aligned = cv2.warpPerspective(image, homo, (w,h))\n",
    "    \n",
    "    return image_aligned\n"
   ]
  },
  {
   "cell_type": "code",
   "execution_count": 5,
   "metadata": {
    "id": "rWENE3LM5zv5"
   },
   "outputs": [],
   "source": [
    "images_path = 'dataset/images'\n",
    "results_path = 'dataset/aligned'\n",
    "if not os.path.isdir(results_path):\n",
    "        os.makedirs(results_path)\n",
    "datasets = ['boxes', 'cotton']\n",
    "\n",
    "for dataset in datasets:\n",
    "    if not os.path.isdir(os.path.join(results_path, dataset)):\n",
    "        os.makedirs(os.path.join(results_path, dataset))\n",
    "        \n",
    "    images = sorted(glob.glob(os.path.join(images_path, dataset, '*')))\n",
    "    template = cv2.imread(images[0])\n",
    "    cv2.imwrite(images[0].replace('images', 'aligned'), template)\n",
    "\n",
    "    for image in images[1:]:\n",
    "        template = image_alignment(template, cv2.imread(image))\n",
    "        cv2.imwrite(image.replace('images', 'aligned'), template)"
   ]
  },
  {
   "cell_type": "code",
   "execution_count": null,
   "metadata": {
    "id": "TxUzpI-o5zwA"
   },
   "outputs": [],
   "source": [
    "results_path = 'dataset/errormap'\n",
    "if not os.path.isdir(results_path):\n",
    "        os.makedirs(results_path)\n",
    "datasets = ['boxes', 'cotton']\n",
    "\n",
    "for dataset in datasets:\n",
    "    if not os.path.isdir(os.path.join(results_path, dataset)):\n",
    "        os.makedirs(os.path.join(results_path, dataset))\n",
    "        \n",
    "    images = sorted(glob.glob(os.path.join(images_path, dataset, '*')))\n",
    "    template = cv2.imread(images[0])\n",
    "    cv2.imwrite(images[0].replace(images_path, results_path), template)\n",
    "\n",
    "    for image in images[1:]:\n",
    "        error=[]\n",
    "        img = cv2.imread(image)\n",
    "        error.append(img-template)\n",
    "        img_aligned = image_alignment(template, img)\n",
    "        error.append(img_aligned-template)\n",
    "        template = img_aligned\n",
    "        \n",
    "        error = np.concatenate(error)\n",
    "        cv2.imwrite(image.replace(images_path, results_path), error)"
   ]
  },
  {
   "cell_type": "markdown",
   "metadata": {
    "id": "mukfvW1T5zwF"
   },
   "source": [
    "# initial depth from focus measure"
   ]
  },
  {
   "cell_type": "code",
   "execution_count": null,
   "metadata": {
    "id": "HTIwki9X5zwG"
   },
   "outputs": [],
   "source": [
    "def get_focus(img):\n",
    "    \"\"\"\n",
    "    compute Tenenbaum focus measure\n",
    "    args:\n",
    "        image\n",
    "    return:\n",
    "        tenenbaum: computed tenenbaum focus measure from the input image\n",
    "    \"\"\"\n",
    "    img = cv2.cvtColor(img, cv2.COLOR_BGR2GRAY)\n",
    "    img = cv2.GaussianBlur(img, (3,3), 0)\n",
    "    img_x = cv2.Sobel(img,cv2.CV_32F,1,0,ksize=3)\n",
    "    img_y = cv2.Sobel(img,cv2.CV_32F,0,1,ksize=3)\n",
    "    tenenbaum = img_x*img_x + img_y*img_y\n",
    "    return tenenbaum"
   ]
  },
  {
   "cell_type": "markdown",
   "metadata": {
    "id": "MFI6lb2S5zwJ"
   },
   "source": [
    "# all-in-focus image"
   ]
  },
  {
   "cell_type": "code",
   "execution_count": null,
   "metadata": {
    "id": "6qx698ra5zwK",
    "outputId": "38a78e5e-1364-4787-e65a-4acbbbdd276e"
   },
   "outputs": [
    {
     "name": "stdout",
     "output_type": "stream",
     "text": [
      "(512, 512)\n",
      "(512, 512)\n"
     ]
    }
   ],
   "source": [
    "images_path = 'dataset/aligned'\n",
    "results_path = 'dataset/focus'\n",
    "if not os.path.isdir(results_path):\n",
    "        os.makedirs(results_path)\n",
    "datasets = ['boxes', 'cotton']\n",
    "\n",
    "for dataset in datasets:\n",
    "    if not os.path.isdir(os.path.join(results_path, dataset)):\n",
    "        os.makedirs(os.path.join(results_path, dataset))\n",
    "    image_files = sorted(glob.glob(os.path.join(images_path, dataset, '*')))\n",
    "    \n",
    "    imgs = []\n",
    "    focus = []    \n",
    "    # get focus maps\n",
    "    for f in image_files:\n",
    "        img = cv2.imread(f)\n",
    "        img_focus = get_focus(img)\n",
    "        cv2.imwrite(f.replace('aligned', 'focus'), img_focus)\n",
    "        \n",
    "        imgs.append(img)\n",
    "        focus.append(img_focus)\n",
    "            \n",
    "    # initial depth map\n",
    "    focus = np.array(focus)\n",
    "    depth_map = np.argmax(focus, axis=0)\n",
    "    cv2.imwrite(os.path.join(results_path, 'depthmap_%s.png'%(dataset)), depth_map)\n",
    "    print(depth_map.shape)\n",
    "    \n",
    "    # retrieve focused image\n",
    "    focused = np.zeros(img.shape)\n",
    "    for i in range(depth_map.shape[0]):\n",
    "        for j in range(depth_map.shape[1]):\n",
    "            focused[i,j,:] = imgs[depth_map[i,j]][i,j,:]\n",
    "    cv2.imwrite(os.path.join(results_path, 'focused_%s.png'%(dataset)), focused)\n",
    "    np.save(os.path.join(results_path, 'focus_%s.npy'%(dataset)), focus)"
   ]
  },
  {
   "cell_type": "markdown",
   "metadata": {
    "id": "C6R1RIhO5zwP"
   },
   "source": [
    "# graph-cuts and weighted median filter"
   ]
  },
  {
   "cell_type": "code",
   "execution_count": 6,
   "metadata": {
    "colab": {
     "base_uri": "https://localhost:8080/",
     "height": 306
    },
    "executionInfo": {
     "elapsed": 2048,
     "status": "error",
     "timestamp": 1603883892909,
     "user": {
      "displayName": "안j",
      "photoUrl": "https://lh6.googleusercontent.com/-45HNGoEFguA/AAAAAAAAAAI/AAAAAAAAAe8/_LWrJL3DJD8/s64/photo.jpg",
      "userId": "05281006328784815832"
     },
     "user_tz": -540
    },
    "id": "f7APGmvR7bES",
    "outputId": "bc2f49fb-cedc-4664-ee6d-a237c103ec05"
   },
   "outputs": [],
   "source": [
    "import gco"
   ]
  },
  {
   "cell_type": "code",
   "execution_count": null,
   "metadata": {
    "id": "FeIxmeLn5zwQ"
   },
   "outputs": [],
   "source": [
    "def graph_cut()"
   ]
  },
  {
   "cell_type": "code",
   "execution_count": null,
   "metadata": {
    "id": "G8gKsWET5zwU"
   },
   "outputs": [],
   "source": [
    "images_path = 'dataset/aligned'\n",
    "results_path = 'dataset/graphcut'\n",
    "if not os.path.isdir(results_path):\n",
    "        os.makedirs(results_path)\n",
    "datasets = ['boxes', 'cotton']\n",
    "\n",
    "for dataset in datasets:\n",
    "    if not os.path.isdir(os.path.join(results_path, dataset)):\n",
    "        os.makedirs(os.path.join(results_path, dataset))\n",
    "    image_files = sorted(glob.glob(os.path.join(images_path, dataset, '*')))\n",
    "    \n",
    "    imgs = [cv2.imread(f) for f in image_files]\n",
    "    grays = [cv2.cvtCOLOR(img, cv2.COLOR_BGR2GRAY) for img in imgs]\n",
    "    focus = np.load(os.path.join('dataset', 'focus', 'focus_%s.npy'%(dataset)))\n",
    "\n"
   ]
  },
  {
   "cell_type": "code",
   "execution_count": null,
   "metadata": {
    "id": "5enIc2B55zwY",
    "outputId": "4d7ca0af-04ce-4a24-d050-956c866ccfd0"
   },
   "outputs": [
    {
     "data": {
      "text/plain": [
       "59336.0"
      ]
     },
     "execution_count": 97,
     "metadata": {
      "tags": []
     },
     "output_type": "execute_result"
    }
   ],
   "source": [
    "np.max(focus)"
   ]
  },
  {
   "cell_type": "code",
   "execution_count": null,
   "metadata": {
    "id": "YSwPT4ud5zwb",
    "outputId": "7485aad2-eae9-474e-e4b3-4db41547d30c"
   },
   "outputs": [
    {
     "data": {
      "text/plain": [
       "30"
      ]
     },
     "execution_count": 102,
     "metadata": {
      "tags": []
     },
     "output_type": "execute_result"
    }
   ],
   "source": [
    "len(imgs)"
   ]
  },
  {
   "cell_type": "code",
   "execution_count": null,
   "metadata": {
    "id": "TYA3SnmD5zwf"
   },
   "outputs": [],
   "source": [
    "n=5\n",
    "ii, jj = np.meshgrid(range(n), range(n))"
   ]
  },
  {
   "cell_type": "code",
   "execution_count": null,
   "metadata": {
    "id": "07mfKgdy5zwi",
    "outputId": "a0e984f1-3709-4112-deec-85b784706d7c"
   },
   "outputs": [
    {
     "data": {
      "text/plain": [
       "(5, 5)"
      ]
     },
     "execution_count": 120,
     "metadata": {
      "tags": []
     },
     "output_type": "execute_result"
    }
   ],
   "source": [
    "ii.shape"
   ]
  },
  {
   "cell_type": "code",
   "execution_count": null,
   "metadata": {
    "id": "8rCSP7kP5zwm",
    "outputId": "7e6d6e56-9f3b-4c0d-fcd4-1c55307ffedf"
   },
   "outputs": [
    {
     "data": {
      "text/plain": [
       "array([[0, 1, 2, 3, 4],\n",
       "       [0, 1, 2, 3, 4],\n",
       "       [0, 1, 2, 3, 4],\n",
       "       [0, 1, 2, 3, 4],\n",
       "       [0, 1, 2, 3, 4]])"
      ]
     },
     "execution_count": 123,
     "metadata": {
      "tags": []
     },
     "output_type": "execute_result"
    }
   ],
   "source": [
    "ii"
   ]
  },
  {
   "cell_type": "code",
   "execution_count": null,
   "metadata": {
    "id": "i0CtCyeu5zwq",
    "outputId": "6ca8cdc7-89fc-4e8b-a895-4963e72eaef0"
   },
   "outputs": [
    {
     "data": {
      "text/plain": [
       "array([[0, 0, 0, 0, 0],\n",
       "       [1, 1, 1, 1, 1],\n",
       "       [2, 2, 2, 2, 2],\n",
       "       [3, 3, 3, 3, 3],\n",
       "       [4, 4, 4, 4, 4]])"
      ]
     },
     "execution_count": 124,
     "metadata": {
      "tags": []
     },
     "output_type": "execute_result"
    }
   ],
   "source": [
    "jj"
   ]
  },
  {
   "cell_type": "code",
   "execution_count": null,
   "metadata": {
    "id": "p_-CHeMr5zws"
   },
   "outputs": [],
   "source": []
  }
 ],
 "metadata": {
  "colab": {
   "name": "cv_pa1.ipynb",
   "provenance": []
  },
  "kernelspec": {
   "display_name": "Python 3",
   "language": "python",
   "name": "python3"
  },
  "language_info": {
   "codemirror_mode": {
    "name": "ipython",
    "version": 3
   },
   "file_extension": ".py",
   "mimetype": "text/x-python",
   "name": "python",
   "nbconvert_exporter": "python",
   "pygments_lexer": "ipython3",
   "version": "3.7.9"
  }
 },
 "nbformat": 4,
 "nbformat_minor": 1
}
